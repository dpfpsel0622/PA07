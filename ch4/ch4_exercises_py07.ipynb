{
  "nbformat": 4,
  "nbformat_minor": 0,
  "metadata": {
    "colab": {
      "name": "ch4_exercises_py07.ipynb",
      "provenance": [],
      "collapsed_sections": [],
      "toc_visible": true,
      "include_colab_link": true
    },
    "kernelspec": {
      "name": "python3",
      "display_name": "Python 3"
    }
  },
  "cells": [
    {
      "cell_type": "markdown",
      "metadata": {
        "id": "view-in-github",
        "colab_type": "text"
      },
      "source": [
        "<a href=\"https://colab.research.google.com/github/dpfpsel0622/PA07/blob/main/ch4/ch4_exercises_py07.ipynb\" target=\"_parent\"><img src=\"https://colab.research.google.com/assets/colab-badge.svg\" alt=\"Open In Colab\"/></a>"
      ]
    },
    {
      "cell_type": "markdown",
      "metadata": {
        "id": "ovY5jkD5dpxE"
      },
      "source": [
        "## ch4_exercises_py07.ipynb"
      ]
    },
    {
      "cell_type": "markdown",
      "metadata": {
        "id": "SZw6UnxQWYBe"
      },
      "source": [
        "## Q1.\n",
        "> 주어진 자연수가 홀수인지 짝수인지 판별해 주는 함수(is_odd)를 작성해 보자.\n"
      ]
    },
    {
      "cell_type": "code",
      "metadata": {
        "id": "rUNNaqJPdg7B",
        "colab": {
          "base_uri": "https://localhost:8080/"
        },
        "outputId": "d0d6acb1-0bc3-47c7-af0e-3c9345eda650"
      },
      "source": [
        "# [Q1] Code  \n",
        "\n",
        "def is_odd(number):\n",
        "    if number % 2 == 1:\n",
        "      return True\n",
        "    else:\n",
        "      return False\n",
        "\n",
        "      \n",
        "print(is_odd(1))\n",
        "print(is_odd(2))\n"
      ],
      "execution_count": 10,
      "outputs": [
        {
          "output_type": "stream",
          "text": [
            "True\n",
            "False\n"
          ],
          "name": "stdout"
        }
      ]
    },
    {
      "cell_type": "markdown",
      "metadata": {
        "id": "re2-XrUYXF1m"
      },
      "source": [
        "## Q2.\n",
        "> 입력으로 들어오는 모든 수의 평균 값을 계산해 주는 함수를 작성해 보자. \n",
        "- (단 입력으로 들어오는 수의 개수는 정해져 있지 않다.)\n",
        "- ※ 평균 값을 구할 때 len 함수를 사용해 보자.\n"
      ]
    },
    {
      "cell_type": "code",
      "metadata": {
        "id": "5MBLUZ5WXF1q",
        "colab": {
          "base_uri": "https://localhost:8080/"
        },
        "outputId": "9de70f09-e1b4-42e4-e621-7abaf4c1293f"
      },
      "source": [
        "# [Q2] Code\n",
        "def avg_numbers(*args):\n",
        "    result = 0\n",
        "    for i in args:\n",
        "        result += i\n",
        "    return result/len(args)\n",
        "\n",
        "print(avg_numbers(10,20))\n",
        "\n",
        "print(avg_numbers(1,2,3,4,5,6,7,8,9,10))\n",
        "\n"
      ],
      "execution_count": 11,
      "outputs": [
        {
          "output_type": "stream",
          "text": [
            "15.0\n",
            "5.5\n"
          ],
          "name": "stdout"
        }
      ]
    },
    {
      "cell_type": "markdown",
      "metadata": {
        "id": "UZy8lu_BXGnT"
      },
      "source": [
        "## Q3.\n",
        "> 다음은 두 개의 숫자를 입력받아 더하여 돌려주는 프로그램이다.\n",
        "\n",
        "```\n",
        "input1 = input(\"첫번째 숫자를 입력하세요:\")\n",
        "input2 = input(\"두번째 숫자를 입력하세요:\")\n",
        "\n",
        "total = input1 + input2\n",
        "print(\"두 수의 합은 %s 입니다\" % total)\n",
        "\n",
        "```\n",
        "---\n",
        "> 이 프로그램을 수행해 보자.\n",
        "\n",
        ">> 첫번째 숫자를 입력하세요:3  \n",
        ">> 두번째 숫자를 입력하세요:6\n",
        "- 두 수의 합은 36 입니다\n",
        "- 3과 6을 입력했을 때 9가 아닌 36이라는 결괏값을 돌려주었다.  \n",
        "이 프로그램의 오류를 수정해 보자."
      ]
    },
    {
      "cell_type": "code",
      "metadata": {
        "id": "H9T_sXHzXGnW",
        "colab": {
          "base_uri": "https://localhost:8080/"
        },
        "outputId": "a8cd0138-2d07-4941-d296-f1fd812e2ea4"
      },
      "source": [
        "# [Q3] Code\n",
        "input1 = input(\"첫 번째 숫자를 입력하세요:\")\n",
        "input2 = input(\"두 번째 숫자를 입력하세요:\")\n",
        "\n",
        "total = int(input1) + int(input2) # 입력은 항상 문자열이라서 숫자로 바꿔야됨.\n",
        "\n",
        "print(\"두수의 합은 %s 입니다\"% total)"
      ],
      "execution_count": 12,
      "outputs": [
        {
          "output_type": "stream",
          "text": [
            "첫 번째 숫자를 입력하세요:3\n",
            "두 번째 숫자를 입력하세요:6\n",
            "두수의 합은 9 입니다\n"
          ],
          "name": "stdout"
        }
      ]
    },
    {
      "cell_type": "markdown",
      "metadata": {
        "id": "fqypxxqTXHY7"
      },
      "source": [
        "## Q4.\n",
        "> 다음 중 출력 결과가 다른 것 한 개를 골라 보자.\n",
        "\n",
        "```\n",
        "print(\"you\" \"need\" \"python\")\n",
        "print(\"you\"+\"need\"+\"python\")\n",
        "print(\"you\", \"need\", \"python\")\n",
        "print(\"\".join([\"you\", \"need\", \"python\"]))\n",
        "```"
      ]
    },
    {
      "cell_type": "code",
      "metadata": {
        "id": "oQ5UnmayXHY-",
        "colab": {
          "base_uri": "https://localhost:8080/"
        },
        "outputId": "bbfda0a3-85a3-4224-c186-4251c613df08"
      },
      "source": [
        "# [Q4] Code\n",
        "print(\"you\" \"need\" \"python\")\n",
        "print(\"you\"+\"need\"+\"python\")\n",
        "print(\"you\", \"need\", \"python\") # 콤마가 있는 경우 공백이 삽입되어 더해진다.\n",
        "print(\"\".join([\"you\", \"need\", \"python\"]))\n"
      ],
      "execution_count": 13,
      "outputs": [
        {
          "output_type": "stream",
          "text": [
            "youneedpython\n",
            "youneedpython\n",
            "you need python\n",
            "youneedpython\n"
          ],
          "name": "stdout"
        }
      ]
    },
    {
      "cell_type": "markdown",
      "metadata": {
        "id": "NKsvciXZXIL-"
      },
      "source": [
        "## Q5.\n",
        "> 다음은 \"test.txt\"라는 파일에 \"Life is too short\" 문자열을 저장한 후 다시 그 파일을 읽어서 출력하는 프로그램이다.\n",
        "\n",
        "```\n",
        "f1 = open(\"test.txt\", 'w')\n",
        "f1.write(\"Life is too short\")\n",
        "\n",
        "f2 = open(\"test.txt\", 'r')\n",
        "print(f2.read())\n",
        "\n",
        "```\n",
        ">> 이 프로그램은 우리가 예상한 \"Life is too short\"라는 문장을 출력하지 않는다.\n",
        "\n",
        ">> 우리가 예상한 값을 출력할 수 있도록 프로그램을 수정해 보자."
      ]
    },
    {
      "cell_type": "code",
      "metadata": {
        "id": "5MZQYOVjXIL_",
        "colab": {
          "base_uri": "https://localhost:8080/"
        },
        "outputId": "67464b0d-e7d3-4994-fe70-cd24800d32d7"
      },
      "source": [
        "# [Q5] Code\n",
        "\n",
        "f1 = open(\"test.txt\",'w')\n",
        "f1.write(\"Life is too short!\")\n",
        "f1.close()\n",
        "\n",
        "f2 = open(\"test.txt\",'r')\n",
        "print(f2.read())\n",
        "f2.close()\n"
      ],
      "execution_count": 15,
      "outputs": [
        {
          "output_type": "stream",
          "text": [
            "Life is too short!\n"
          ],
          "name": "stdout"
        }
      ]
    },
    {
      "cell_type": "code",
      "metadata": {
        "colab": {
          "base_uri": "https://localhost:8080/"
        },
        "id": "pwJkv8oQJwbK",
        "outputId": "5af7ea2e-2497-49c0-ee94-f95cc04af0dc"
      },
      "source": [
        "with open(\"test.txt\", 'w') as f1:\n",
        "    f1.write(\"Life is too short! \")\n",
        "with open(\"test.txt\", 'r') as f2:\n",
        "    print(f2.read())"
      ],
      "execution_count": 14,
      "outputs": [
        {
          "output_type": "stream",
          "text": [
            "Life is too short! \n"
          ],
          "name": "stdout"
        }
      ]
    },
    {
      "cell_type": "markdown",
      "metadata": {
        "id": "-3KHtOOoXJBV"
      },
      "source": [
        "## Q6.\n",
        "> 사용자의 입력을 파일(test.txt)에 저장하는 프로그램을 작성해 보자. \n",
        "- (단 프로그램을 다시 실행하더라도 기존에 작성한 내용을 유지하고 새로 입력한 내용을 추가해야 한다.)\n"
      ]
    },
    {
      "cell_type": "code",
      "metadata": {
        "id": "AjYR0lUaXJBa",
        "colab": {
          "base_uri": "https://localhost:8080/"
        },
        "outputId": "9ff332d9-eb23-4d12-c48c-636d6d370ae9"
      },
      "source": [
        "# [Q6] Code\n",
        "user_input = input(\"저장할 내용을 입력하세요:\")\n",
        "f = open('test.txt','a')\n",
        "f.write(user_input)\n",
        "f.write(\"\\n\")\n",
        "\n",
        "f.close()\n"
      ],
      "execution_count": 20,
      "outputs": [
        {
          "output_type": "stream",
          "text": [
            "저장할 내용을 입력하세요:4567\n"
          ],
          "name": "stdout"
        }
      ]
    },
    {
      "cell_type": "markdown",
      "metadata": {
        "id": "YrS3b88QbmKo"
      },
      "source": [
        "## Q7.\n",
        "> 다음과 같은 내용을 지닌 파일 foo1.txt가 있다. 이 파일의 내용 중 \"java\"라는 문자열을 \"python\"으로 바꾸어서 저장해 보자.\n",
        "\n",
        ">> Life is too short  \n",
        ">> you need java\n",
        "\n",
        "- ※ replace 함수를 사용해 보자.\n"
      ]
    },
    {
      "cell_type": "code",
      "metadata": {
        "id": "Ll_2InMWbmKq"
      },
      "source": [
        "# [Q7] Code-1\n",
        "f = open('foo1.txt','r')\n",
        "body = f.read()\n",
        "f.close()\n",
        "\n",
        "body = body.replace('java','python')\n",
        "\n",
        "f = open('foo1.txt','w')\n",
        "f.write(body)\n",
        "f.close()\n"
      ],
      "execution_count": 25,
      "outputs": []
    },
    {
      "cell_type": "markdown",
      "metadata": {
        "id": "2ljBDShkbqZO"
      },
      "source": [
        "## 코딩 연습 결과를 github에 올리기\n",
        "> 완성된 ipython 노트북 파일을 각자의 github에 올리시오.\n",
        "\n",
        "- github 계정 만들기 (계정이 없는 학생)\n",
        "    1. github에 sign up (Google gmail 계정을 이용해서 만드시오.)\n",
        "- github에 노트 올리기\n",
        "    2. github에 각자의 id로 repo를 만드시오. (한번 만들면 계속 재사용)\n",
        "    3. github repo에 연습결과 노트를 올리시오.\n",
        "        - 제출노트: ch4_exercises_id.ipynb\n"
      ]
    },
    {
      "cell_type": "code",
      "metadata": {
        "id": "OnCR-YNCc8B6"
      },
      "source": [
        ""
      ],
      "execution_count": null,
      "outputs": []
    }
  ]
}