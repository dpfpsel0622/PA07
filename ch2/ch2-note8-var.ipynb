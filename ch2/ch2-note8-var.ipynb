{
 "metadata": {
  "language_info": {
   "codemirror_mode": {
    "name": "ipython",
    "version": 3
   },
   "file_extension": ".py",
   "mimetype": "text/x-python",
   "name": "python",
   "nbconvert_exporter": "python",
   "pygments_lexer": "ipython3",
   "version": "3.8.5-final"
  },
  "orig_nbformat": 2,
  "kernelspec": {
   "name": "python3",
   "display_name": "Python 3.8.5 64-bit (virtualenv)",
   "metadata": {
    "interpreter": {
     "hash": "59da87efd4cdad0db44dee83f4a3b27499c434a71a3ba18286655780fc318959"
    }
   }
  }
 },
 "nbformat": 4,
 "nbformat_minor": 2,
 "cells": [
  {
   "source": [
    "### ch2-note8-var.ipynb by PA07"
   ],
   "cell_type": "markdown",
   "metadata": {}
  },
  {
   "source": [
    "### 변수: 변수란?\n",
    "- 변수는 자료(값)을 저장하는 공간이다."
   ],
   "cell_type": "markdown",
   "metadata": {}
  },
  {
   "cell_type": "code",
   "execution_count": 6,
   "metadata": {},
   "outputs": [
    {
     "output_type": "execute_result",
     "data": {
      "text/plain": [
       "2287422379584"
      ]
     },
     "metadata": {},
     "execution_count": 6
    }
   ],
   "source": [
    "a = [1, 2, 3]\n",
    "id(a)  # a 변수가 가리키는 메모리의 주소"
   ]
  },
  {
   "cell_type": "code",
   "execution_count": 17,
   "metadata": {},
   "outputs": [
    {
     "output_type": "stream",
     "name": "stdout",
     "text": [
      "2287455642112\n2287453905984\nFalse\nFalse\n2287453905984\n2287453905984\nTrue\n[1, 4, 3] [1, 4, 3]\n"
     ]
    }
   ],
   "source": [
    "# list\n",
    "a = [1, 2, 3] \n",
    "print(id(a))\n",
    "a = [1,2,3] # a라는 같은 리스트를 만들어도 다른 주소의 리스트가 생성된다.\n",
    "print(id(a)) # 처음 만든 a 리스트와는 다른 주소를 갖는다.\n",
    "print(b == a),print(id(a)==id(b)) # 서로 다른 주소를 가지므로 False.\n",
    "\n",
    "b = a # b에 a를 대입하여 같은 주소를 갖게 만든다.\n",
    "print(id(a)), print(id(b)) # 같은 주소를 갖는걸 확인 할 수 있다.\n",
    "print(a is b) # a 와 b의 주소가 같으므로 True.\n",
    "a[1] = 4 # a의 두번째 인덱스를 4로 바꾼다.\n",
    "print(a, b) # a와 주소가같은 b 또한 두번째 인덱스가 4로 바뀐걸 확인 할 수 있다."
   ]
  },
  {
   "source": [
    "- b 변수를 생성할 때 a 변수의 값을 가져오면서\n",
    "- a와는 다른 주소를 가리키도록 만들수는 없을까?\n",
    "- 다음 2가지 방법이 있다."
   ],
   "cell_type": "markdown",
   "metadata": {}
  },
  {
   "cell_type": "code",
   "execution_count": 19,
   "metadata": {},
   "outputs": [
    {
     "output_type": "execute_result",
     "data": {
      "text/plain": [
       "([1, 4, 3], [1, 2, 3])"
      ]
     },
     "metadata": {},
     "execution_count": 19
    }
   ],
   "source": [
    "# 1. [:] 이용\n",
    "\n",
    "a = [1, 2, 3]\n",
    "b = a[:] # 값은 같지만 주소가다른 b를 생성한다.\n",
    "a[1] = 4 # a의 두번째 인덱스를 4로 변경한다.\n",
    "a, b # a와 b의 주소가 다르므로 a 만 두번째 인덱스 값이 바뀐걸 확인 할 수 있다."
   ]
  },
  {
   "cell_type": "code",
   "execution_count": 27,
   "metadata": {},
   "outputs": [
    {
     "output_type": "execute_result",
     "data": {
      "text/plain": [
       "(False, False)"
      ]
     },
     "metadata": {},
     "execution_count": 27
    }
   ],
   "source": [
    "# 2. copy 모듈 이용\n",
    "\n",
    "a = [1, 2, 3]\n",
    "from copy import copy\n",
    "b = copy(a) # b에 a를 copy하여 대입한다. 같은 값이지만 주소가 다름\n",
    "\n",
    "b is a, a is b # 주소가 다르므로 False,False\n"
   ]
  },
  {
   "cell_type": "code",
   "execution_count": 29,
   "metadata": {},
   "outputs": [
    {
     "output_type": "stream",
     "name": "stdout",
     "text": [
      "python\nlife\npython life\n"
     ]
    }
   ],
   "source": [
    "\n",
    "a, b = (\"python\", \"life\")\n",
    "print(a)\n",
    "print(b)\n",
    "print(a,b)"
   ]
  },
  {
   "cell_type": "code",
   "execution_count": 30,
   "metadata": {},
   "outputs": [
    {
     "output_type": "stream",
     "name": "stdout",
     "text": [
      "python\nlife\n"
     ]
    }
   ],
   "source": [
    "[a, b] = [\"python\", \"life\"]\n",
    "print(a)\n",
    "print(b)"
   ]
  },
  {
   "cell_type": "code",
   "execution_count": 32,
   "metadata": {},
   "outputs": [
    {
     "output_type": "stream",
     "name": "stdout",
     "text": [
      "5\n3\n"
     ]
    }
   ],
   "source": [
    "a = 3\n",
    "b = 5\n",
    "a, b = b, a # a에는 b의값을 b에는 a의 값을 넣는다.\n",
    "print(a) \n",
    "print(b)"
   ]
  },
  {
   "cell_type": "code",
   "execution_count": null,
   "metadata": {},
   "outputs": [],
   "source": []
  }
 ]
}