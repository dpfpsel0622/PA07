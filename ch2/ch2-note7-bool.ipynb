{
 "metadata": {
  "language_info": {
   "codemirror_mode": {
    "name": "ipython",
    "version": 3
   },
   "file_extension": ".py",
   "mimetype": "text/x-python",
   "name": "python",
   "nbconvert_exporter": "python",
   "pygments_lexer": "ipython3",
   "version": "3.8.5-final"
  },
  "orig_nbformat": 2,
  "kernelspec": {
   "name": "python3",
   "display_name": "Python 3.8.5 64-bit (conda)",
   "metadata": {
    "interpreter": {
     "hash": "59da87efd4cdad0db44dee83f4a3b27499c434a71a3ba18286655780fc318959"
    }
   }
  }
 },
 "nbformat": 4,
 "nbformat_minor": 2,
 "cells": [
  {
   "source": [
    "### ch2-note7-bool.ipynb by PA07"
   ],
   "cell_type": "markdown",
   "metadata": {}
  },
  {
   "source": [
    "### 불: 불 자료형이란?\n",
    "- 불(bool) 자료형이란 참(True)과 거짓(False)을 나타내는 자료형이다.\n",
    "- 불 자료형은 다음 2가지 값만을 가질 수 있다.\n",
    "- True - 참\n",
    "- False - 거짓\n",
    "- True나 False는 파이썬의 예약어로 true, false와 같이 사용하지 말고\n",
    "- 첫 문자를 항상 대문자로 사용해야 한다.\n"
   ],
   "cell_type": "markdown",
   "metadata": {}
  },
  {
   "cell_type": "code",
   "execution_count": 1,
   "metadata": {},
   "outputs": [
    {
     "output_type": "execute_result",
     "data": {
      "text/plain": [
       "(bool, bool)"
      ]
     },
     "metadata": {},
     "execution_count": 1
    }
   ],
   "source": [
    "a = True\n",
    "b = False\n",
    "type(a), type(b)\n"
   ]
  },
  {
   "cell_type": "code",
   "execution_count": 4,
   "metadata": {},
   "outputs": [
    {
     "output_type": "stream",
     "name": "stdout",
     "text": [
      "True\nTrue\nFalse\n2\n1\n"
     ]
    }
   ],
   "source": [
    "# 참과 거짓\n",
    "\n",
    "print(1 == 1)\n",
    "print(2 > 1)\n",
    "print(2 < 1)\n",
    "print(True + 1) ## True는 1이라는 값을 갖는다.\n",
    "print(False + 1) ## False는 0이라는 값을 갖는다."
   ]
  },
  {
   "cell_type": "code",
   "execution_count": 6,
   "metadata": {},
   "outputs": [
    {
     "output_type": "stream",
     "name": "stdout",
     "text": [
      "True\nFalse\nTrue\nTrue\nFalse\nFalse\nFalse\nTrue\nFalse\nFalse\n"
     ]
    }
   ],
   "source": [
    "# 자료형의 참과 거짓\n",
    "print(bool(\"python\"))\n",
    "print(bool(\"\"))\n",
    "print(bool([1, 2, 3]))\n",
    "print(bool([2, 3]))\n",
    "print(bool([]))\n",
    "print(bool(()))\n",
    "print(bool({}))\n",
    "print(bool(1))\n",
    "print(bool(0))\n",
    "print(bool(None))"
   ]
  },
  {
   "cell_type": "code",
   "execution_count": 10,
   "metadata": {},
   "outputs": [
    {
     "output_type": "stream",
     "name": "stdout",
     "text": [
      "4\n3\n2\n1\n"
     ]
    }
   ],
   "source": [
    "# 불 값을 이용한 코드\n",
    "\n",
    "a = [1, 2, 3, 4]\n",
    "#\n",
    "while a:\n",
    "    print(a.pop()) ## a의 리스트에 1,2,3,4 가 들어있으므로 True, (a.pop)를 사용하여 끝에서 부터 하나씩 제거한뒤 a의 리스트가 빈공간 (False) 가 될때까지 반복하다 종료된다."
   ]
  },
  {
   "cell_type": "code",
   "execution_count": 11,
   "metadata": {},
   "outputs": [
    {
     "output_type": "stream",
     "name": "stdout",
     "text": [
      "거짓\n"
     ]
    }
   ],
   "source": [
    "if []:   ## 리스트가 빈공간이므로 False이다 else로 넘어가서 \"거짓\" 이 출력된다.\n",
    "    print(\"참\")\n",
    "else:\n",
    "    print(\"거짓\")"
   ]
  },
  {
   "cell_type": "code",
   "execution_count": 12,
   "metadata": {},
   "outputs": [
    {
     "output_type": "execute_result",
     "data": {
      "text/plain": [
       "False"
      ]
     },
     "metadata": {},
     "execution_count": 12
    }
   ],
   "source": [
    "############################\n",
    "#  Representation error\n",
    "## double precision representation of floating-point numbers\n",
    "############################\n",
    "1-0.9\n",
    "# 0.09999999999999998\n",
    "1-0.9==.1\n",
    "# False"
   ]
  },
  {
   "cell_type": "code",
   "execution_count": 15,
   "metadata": {},
   "outputs": [
    {
     "output_type": "stream",
     "name": "stdout",
     "text": [
      "3.140000000000000124344978758017532527446746826171875 2.7400000000000002131628207280300557613372802734375\n8.603600000000001010036498883\n"
     ]
    }
   ],
   "source": [
    "import decimal\n",
    "x=decimal.Decimal(3.14)\n",
    "y=decimal.Decimal(2.74)\n",
    "print(x,y)\n",
    "print(x*y)"
   ]
  },
  {
   "cell_type": "code",
   "execution_count": 14,
   "metadata": {},
   "outputs": [
    {
     "output_type": "execute_result",
     "data": {
      "text/plain": [
       "Decimal('8.603600000000001010036498883')"
      ]
     },
     "metadata": {},
     "execution_count": 14
    }
   ],
   "source": [
    "x*y"
   ]
  },
  {
   "cell_type": "code",
   "execution_count": 18,
   "metadata": {},
   "outputs": [
    {
     "output_type": "execute_result",
     "data": {
      "text/plain": [
       "Decimal('8.604')"
      ]
     },
     "metadata": {},
     "execution_count": 18
    }
   ],
   "source": [
    "decimal.getcontext().prec=4 ## 소숫점 4째 자리에서 반올림하여 출력한다.\n",
    "x*y\n",
    "# Decimal('8.604')"
   ]
  },
  {
   "cell_type": "code",
   "execution_count": null,
   "metadata": {},
   "outputs": [],
   "source": []
  }
 ]
}