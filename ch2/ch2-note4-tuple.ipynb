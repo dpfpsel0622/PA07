{
 "metadata": {
  "language_info": {
   "codemirror_mode": {
    "name": "ipython",
    "version": 3
   },
   "file_extension": ".py",
   "mimetype": "text/x-python",
   "name": "python",
   "nbconvert_exporter": "python",
   "pygments_lexer": "ipython3",
   "version": "3.8.5-final"
  },
  "orig_nbformat": 2,
  "kernelspec": {
   "name": "python3",
   "display_name": "Python 3.8.5 64-bit (conda)",
   "metadata": {
    "interpreter": {
     "hash": "59da87efd4cdad0db44dee83f4a3b27499c434a71a3ba18286655780fc318959"
    }
   }
  }
 },
 "nbformat": 4,
 "nbformat_minor": 2,
 "cells": [
  {
   "source": [
    "### ch2-note4-tuple.ipynb by PA07"
   ],
   "cell_type": "markdown",
   "metadata": {}
  },
  {
   "source": [
    "## 튜플: tuple 이란?\n",
    "-  리스트는 [ ]으로 둘러싸지만 튜플은 ( )으로 둘러싼다.\n",
    "-  리스트는 그 값의 생성, 삭제, 수정이 가능하지만 튜플은 그 값을 바꿀 수 없다.\n",
    "-  immutability of tuple (불가변성 데이터 구조)\n"
   ],
   "cell_type": "markdown",
   "metadata": {}
  },
  {
   "cell_type": "code",
   "execution_count": 5,
   "metadata": {},
   "outputs": [
    {
     "output_type": "stream",
     "name": "stdout",
     "text": [
      "(2, 4, 6, 8)\n()\n(1,)\n(1, 2, 3)\n(1, 2, 3)\n('a', 'b', ('ab', 'cd'))\n"
     ]
    }
   ],
   "source": [
    "even = (2, 4, 6, 8)\n",
    "print(even)\n",
    "# 여러 가지 튜플\n",
    "t1 = ()  # 튜플 초기화\n",
    "print(t1)\n",
    "t2 = (1,)\n",
    "print(t2)\n",
    "t3 = (1, 2, 3)\n",
    "print(t3)\n",
    "t4 = 1, 2, 3\n",
    "print(t4)\n",
    "t5 = (\"a\", \"b\", (\"ab\", \"cd\"))\n",
    "print(t5)\n",
    "# t2 = (1,)처럼 단지 1개의 요소만을 가질 때는 요소 뒤에\n",
    "# 콤마(,)를 반드시 붙여야 한다는 것과\n",
    "# t4 = 1, 2, 3처럼 괄호( )를 생략해도 무방하다."
   ]
  },
  {
   "cell_type": "code",
   "execution_count": 6,
   "metadata": {},
   "outputs": [
    {
     "output_type": "error",
     "ename": "TypeError",
     "evalue": "'tuple' object doesn't support item deletion",
     "traceback": [
      "\u001b[1;31m---------------------------------------------------------------------------\u001b[0m",
      "\u001b[1;31mTypeError\u001b[0m                                 Traceback (most recent call last)",
      "\u001b[1;32m<ipython-input-6-98b77b610247>\u001b[0m in \u001b[0;36m<module>\u001b[1;34m\u001b[0m\n\u001b[0;32m      3\u001b[0m \u001b[1;31m# 1. 튜플 요솟값을 삭제하려 할 때\u001b[0m\u001b[1;33m\u001b[0m\u001b[1;33m\u001b[0m\u001b[1;33m\u001b[0m\u001b[0m\n\u001b[0;32m      4\u001b[0m \u001b[0mt1\u001b[0m \u001b[1;33m=\u001b[0m \u001b[1;33m(\u001b[0m\u001b[1;36m1\u001b[0m\u001b[1;33m,\u001b[0m \u001b[1;36m2\u001b[0m\u001b[1;33m,\u001b[0m \u001b[1;34m\"a\"\u001b[0m\u001b[1;33m,\u001b[0m \u001b[1;34m\"b\"\u001b[0m\u001b[1;33m)\u001b[0m\u001b[1;33m\u001b[0m\u001b[1;33m\u001b[0m\u001b[0m\n\u001b[1;32m----> 5\u001b[1;33m \u001b[1;32mdel\u001b[0m \u001b[0mt1\u001b[0m\u001b[1;33m[\u001b[0m\u001b[1;36m0\u001b[0m\u001b[1;33m]\u001b[0m  \u001b[1;31m# Error\u001b[0m\u001b[1;33m\u001b[0m\u001b[1;33m\u001b[0m\u001b[0m\n\u001b[0m",
      "\u001b[1;31mTypeError\u001b[0m: 'tuple' object doesn't support item deletion"
     ]
    }
   ],
   "source": [
    "# 튜플의 요소값을 지우거나 변경하려고 하면 어떻게 될까?\n",
    "#\n",
    "# 1. 튜플 요솟값을 삭제하려 할 때\n",
    "t1 = (1, 2, \"a\", \"b\")\n",
    "del t1[0]  # Error 튜플은 값을 삭제할수없다."
   ]
  },
  {
   "cell_type": "code",
   "execution_count": 7,
   "metadata": {},
   "outputs": [
    {
     "output_type": "error",
     "ename": "TypeError",
     "evalue": "'tuple' object does not support item assignment",
     "traceback": [
      "\u001b[1;31m---------------------------------------------------------------------------\u001b[0m",
      "\u001b[1;31mTypeError\u001b[0m                                 Traceback (most recent call last)",
      "\u001b[1;32m<ipython-input-7-d106dbba5921>\u001b[0m in \u001b[0;36m<module>\u001b[1;34m\u001b[0m\n\u001b[0;32m      1\u001b[0m \u001b[1;31m# 2. 튜플 요솟값을 변경하려 할 때\u001b[0m\u001b[1;33m\u001b[0m\u001b[1;33m\u001b[0m\u001b[1;33m\u001b[0m\u001b[0m\n\u001b[0;32m      2\u001b[0m \u001b[1;31m#\u001b[0m\u001b[1;33m\u001b[0m\u001b[1;33m\u001b[0m\u001b[1;33m\u001b[0m\u001b[0m\n\u001b[1;32m----> 3\u001b[1;33m \u001b[0mt1\u001b[0m\u001b[1;33m[\u001b[0m\u001b[1;36m0\u001b[0m\u001b[1;33m]\u001b[0m \u001b[1;33m=\u001b[0m \u001b[1;34m\"c\"\u001b[0m  \u001b[1;31m# TypeError 튜플은 값을 바꿀수없다.\u001b[0m\u001b[1;33m\u001b[0m\u001b[1;33m\u001b[0m\u001b[0m\n\u001b[0m",
      "\u001b[1;31mTypeError\u001b[0m: 'tuple' object does not support item assignment"
     ]
    }
   ],
   "source": [
    "# 2. 튜플 요솟값을 변경하려 할 때\n",
    "#\n",
    "t1[0] = \"c\"  # TypeError 튜플은 값을 바꿀수없다."
   ]
  },
  {
   "source": [
    "## 튜플: 사용방법"
   ],
   "cell_type": "markdown",
   "metadata": {}
  },
  {
   "cell_type": "code",
   "execution_count": 9,
   "metadata": {},
   "outputs": [
    {
     "output_type": "stream",
     "name": "stdout",
     "text": [
      "1\nb\n"
     ]
    }
   ],
   "source": [
    "# 인덱싱하기\n",
    "#\n",
    "t1 = (1, 2, \"a\", \"b\")\n",
    "print(t1[0])\n",
    "print(t1[-1])"
   ]
  },
  {
   "cell_type": "code",
   "execution_count": 10,
   "metadata": {},
   "outputs": [
    {
     "output_type": "stream",
     "name": "stdout",
     "text": [
      "(2, 'a', 'b')\n('a',)\n('a', 'b')\n"
     ]
    }
   ],
   "source": [
    "# 슬라이싱하기\n",
    "#\n",
    "t1 = (1, 2, \"a\", \"b\")\n",
    "print(t1[1:])\n",
    "print(t1[2:-1])  # ('a',)\n",
    "print(t1[2:])"
   ]
  },
  {
   "cell_type": "code",
   "execution_count": 11,
   "metadata": {},
   "outputs": [
    {
     "output_type": "execute_result",
     "data": {
      "text/plain": [
       "(1, 2, 'a', 'b', 3, 4)"
      ]
     },
     "metadata": {},
     "execution_count": 11
    }
   ],
   "source": [
    "# 튜플 더하기\n",
    "#\n",
    "t1 = (1, 2, \"a\", \"b\")\n",
    "t2 = (3, 4)\n",
    "t1 + t2"
   ]
  },
  {
   "cell_type": "code",
   "execution_count": 14,
   "metadata": {},
   "outputs": [
    {
     "output_type": "stream",
     "name": "stdout",
     "text": [
      "1451308916352\n1451308916352\n1451305265952\n"
     ]
    }
   ],
   "source": [
    " # 튜플 곱하기\n",
    "#\n",
    "t2 = (3, 4)\n",
    "print(id(t2))\n",
    "t2 * 3\n",
    "print(id(t2))\n",
    "t2 = t2 * 3\n",
    "print(id(t2))"
   ]
  },
  {
   "cell_type": "code",
   "execution_count": 15,
   "metadata": {},
   "outputs": [
    {
     "output_type": "execute_result",
     "data": {
      "text/plain": [
       "4"
      ]
     },
     "metadata": {},
     "execution_count": 15
    }
   ],
   "source": [
    "# 튜플 길이 구하기\n",
    "#\n",
    "t1 = (1, 2, \"a\", \"b\")\n",
    "len(t1)"
   ]
  },
  {
   "cell_type": "code",
   "execution_count": null,
   "metadata": {},
   "outputs": [],
   "source": []
  }
 ]
}