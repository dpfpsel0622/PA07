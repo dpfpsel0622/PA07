{
  "nbformat": 4,
  "nbformat_minor": 0,
  "metadata": {
    "colab": {
      "name": "ch5_exercises_pa07.ipynb",
      "provenance": [],
      "collapsed_sections": [],
      "toc_visible": true,
      "include_colab_link": true
    },
    "kernelspec": {
      "name": "python3",
      "display_name": "Python 3"
    }
  },
  "cells": [
    {
      "cell_type": "markdown",
      "metadata": {
        "id": "view-in-github",
        "colab_type": "text"
      },
      "source": [
        "<a href=\"https://colab.research.google.com/github/dpfpsel0622/PA07/blob/main/ch5/ch5_exercises_pa07.ipynb\" target=\"_parent\"><img src=\"https://colab.research.google.com/assets/colab-badge.svg\" alt=\"Open In Colab\"/></a>"
      ]
    },
    {
      "cell_type": "markdown",
      "metadata": {
        "id": "ovY5jkD5dpxE"
      },
      "source": [
        "## ch5_exercises_pa07.ipynb"
      ]
    },
    {
      "cell_type": "markdown",
      "metadata": {
        "id": "SZw6UnxQWYBe"
      },
      "source": [
        "## Q1.\n",
        "> 다음은 Calculator 클래스이다.\n",
        "\n",
        "```\n",
        "class Calculator:\n",
        "    def __init__(self):\n",
        "        self.value = 0\n",
        "\n",
        "    def add(self, val):\n",
        "        self.value += val\n",
        "```\n",
        "---\n",
        "> 위 클래스를 상속하는 UpgradeCalculator를 만들고 값을 뺄 수 있는 minus 메서드를 추가해 보자. \n",
        ">> 즉 다음과 같이 동작하는 클래스를 만들어야 한다.\n",
        "```\n",
        "cal = UpgradeCalculator()\n",
        "cal.add(10)\n",
        "cal.minus(7)\n",
        "print(cal.value) # 10에서 7을 뺀 3을 출력\n",
        "```\n"
      ]
    },
    {
      "cell_type": "code",
      "metadata": {
        "id": "rUNNaqJPdg7B",
        "colab": {
          "base_uri": "https://localhost:8080/"
        },
        "outputId": "71c6d81f-e0de-4f7d-b2bb-a9360410ca3e"
      },
      "source": [
        "# [Q1] Code  \n",
        "\n",
        "class Calculator:\n",
        "  def __init__(self):\n",
        "        self.value = 0\n",
        "\n",
        "  def add(self,val):\n",
        "    self.value += val\n",
        "\n",
        "class UpgradeCalculator(Calculator):\n",
        "    def minus(self, val):\n",
        "      self.value -= val\n",
        "      \n",
        "cal = UpgradeCalculator()\n",
        "cal.add(10)\n",
        "cal.minus(7)\n",
        "\n",
        "print(cal.value)      \n"
      ],
      "execution_count": 6,
      "outputs": [
        {
          "output_type": "stream",
          "text": [
            "3\n"
          ],
          "name": "stdout"
        }
      ]
    },
    {
      "cell_type": "markdown",
      "metadata": {
        "id": "re2-XrUYXF1m"
      },
      "source": [
        "## Q2.\n",
        "> 객체변수 value가 100 이상의 값은 가질 수 없도록 제한하는 MaxLimitCalculator 클래스를 만들어 보자. \n",
        ">> 즉 다음과 같이 동작해야 한다.\n",
        "```\n",
        "cal = MaxLimitCalculator()\n",
        "cal.add(50) # 50 더하기\n",
        "cal.add(60) # 60 더하기\n",
        "print(cal.value) # 100 출력\n",
        "```\n",
        ">> 단 반드시 다음과 같은 Calculator 클래스를 상속해서 만들어야 한다.\n",
        "```\n",
        "class Calculator:\n",
        "    def __init__(self):\n",
        "        self.value = 0\n",
        "    def add(self, val):\n",
        "        self.value += val\n",
        "```"
      ]
    },
    {
      "cell_type": "code",
      "metadata": {
        "id": "5MBLUZ5WXF1q",
        "colab": {
          "base_uri": "https://localhost:8080/"
        },
        "outputId": "f8596ee1-120e-487b-f04f-bb231a80d39d"
      },
      "source": [
        "# [Q2] Code\n",
        "class MaxLimitCalculator(Calculator):\n",
        "    def add(self, val):\n",
        "        self.value += val\n",
        "        if self.value > 100:\n",
        "            self.value = 100\n",
        "class Calculator:\n",
        "    def __init__(self):\n",
        "        self.value = 0\n",
        "    def add(self, val):\n",
        "        self.value += val\n",
        "        \n",
        "cal = MaxLimitCalculator()\n",
        "cal.add(50) # 50 더하기\n",
        "cal.add(60) # 60 더하기\n",
        "print(cal.value) # 100 출력\n"
      ],
      "execution_count": 7,
      "outputs": [
        {
          "output_type": "stream",
          "text": [
            "100\n"
          ],
          "name": "stdout"
        }
      ]
    },
    {
      "cell_type": "markdown",
      "metadata": {
        "id": "UZy8lu_BXGnT"
      },
      "source": [
        "## Q3.\n",
        "> 다음 결과를 예측해 보자.\n",
        "\n",
        "- 하나.\n",
        "```\n",
        "all([1, 2, abs(-3)-3])\n",
        "```\n",
        "\n",
        "- 둘.\n",
        "```\n",
        "chr(ord('a')) == 'a'\n",
        "```"
      ]
    },
    {
      "cell_type": "code",
      "metadata": {
        "id": "H9T_sXHzXGnW",
        "colab": {
          "base_uri": "https://localhost:8080/"
        },
        "outputId": "129db537-d79a-4199-ff4a-3667b69ec2f5"
      },
      "source": [
        "# [Q3] Code\n",
        "print(all([1, 2, abs(-3)-3])) # abs(-3)은 -3의 절댓값이므로 3이 되어 all([1, 2, 0])이 되고, 리스트의 요솟값중 0이 있기 때문에 all 내장 함수의 결과는 False가 된다.\n",
        "\n",
        "print(chr(ord('a')) == 'a')# ord('a') 의 결과는 97이 되어 chr(97)로 치환된다. chr(97)의 결과는 다시 'a'가 되므로 'a' == 'a'가 되어 True를 돌려준다.\n"
      ],
      "execution_count": 8,
      "outputs": [
        {
          "output_type": "stream",
          "text": [
            "False\n",
            "True\n"
          ],
          "name": "stdout"
        }
      ]
    },
    {
      "cell_type": "markdown",
      "metadata": {
        "id": "fqypxxqTXHY7"
      },
      "source": [
        "## Q4.\n",
        "> filter와 lambda를 사용하여 리스트 [1, -2, 3, -5, 8, -3]에서 음수를 모두 제거해 보자."
      ]
    },
    {
      "cell_type": "code",
      "metadata": {
        "id": "oQ5UnmayXHY-",
        "colab": {
          "base_uri": "https://localhost:8080/"
        },
        "outputId": "069fad98-f69e-430e-8d1b-7aedfde21840"
      },
      "source": [
        "# [Q4] Code\n",
        "list(filter(lambda x:x>0, [1, -2, 3, -5, 8, -3]))\n",
        "\n"
      ],
      "execution_count": 10,
      "outputs": [
        {
          "output_type": "execute_result",
          "data": {
            "text/plain": [
              "[1, 3, 8]"
            ]
          },
          "metadata": {
            "tags": []
          },
          "execution_count": 10
        }
      ]
    },
    {
      "cell_type": "markdown",
      "metadata": {
        "id": "NKsvciXZXIL-"
      },
      "source": [
        "## Q5.\n",
        "> 234라는 10진수의 16진수는 다음과 같이 구할 수 있다.\n",
        "```\n",
        "hex(234)\n",
        "'0xea'\n",
        "```\n",
        "> 이번에는 반대로 16진수 문자열 0xea를 10진수로 변경해 보자.\n",
        ">>※ 내장 함수 int를 활용해 보자.\n"
      ]
    },
    {
      "cell_type": "code",
      "metadata": {
        "id": "5MZQYOVjXIL_",
        "colab": {
          "base_uri": "https://localhost:8080/"
        },
        "outputId": "c1675005-2313-4074-aef6-e6e10b1266cf"
      },
      "source": [
        "# [Q5] Code\n",
        "int('0xea', 16)\n"
      ],
      "execution_count": 11,
      "outputs": [
        {
          "output_type": "execute_result",
          "data": {
            "text/plain": [
              "234"
            ]
          },
          "metadata": {
            "tags": []
          },
          "execution_count": 11
        }
      ]
    },
    {
      "cell_type": "markdown",
      "metadata": {
        "id": "-3KHtOOoXJBV"
      },
      "source": [
        "## Q6.\n",
        "> map과 lambda를 사용하여 [1, 2, 3, 4] 리스트의 각 요솟값에 3이 곱해진 리스트 [3, 6, 9, 12]를 만들어 보자.\n"
      ]
    },
    {
      "cell_type": "code",
      "metadata": {
        "id": "AjYR0lUaXJBa",
        "colab": {
          "base_uri": "https://localhost:8080/"
        },
        "outputId": "dbb22b2e-9f10-408f-ed80-54efd601b7e8"
      },
      "source": [
        "# [Q6] Code\n",
        "\n",
        "list(map(lambda x:x*3, [1,2,3,4]))"
      ],
      "execution_count": 12,
      "outputs": [
        {
          "output_type": "execute_result",
          "data": {
            "text/plain": [
              "[3, 6, 9, 12]"
            ]
          },
          "metadata": {
            "tags": []
          },
          "execution_count": 12
        }
      ]
    },
    {
      "cell_type": "markdown",
      "metadata": {
        "id": "YrS3b88QbmKo"
      },
      "source": [
        "## Q7.\n",
        "> 다음 리스트의 최댓값과 최솟값의 합을 구해 보자.\n",
        ">> [-8, 2, 7, 5, -3, 5, 0, 1]"
      ]
    },
    {
      "cell_type": "code",
      "metadata": {
        "id": "Ll_2InMWbmKq",
        "colab": {
          "base_uri": "https://localhost:8080/"
        },
        "outputId": "d7425534-f00d-4d7b-82d1-7e2fed0e32de"
      },
      "source": [
        "# [Q7] Code\n",
        "\n",
        "a = [-8, 2, 7, 5, -3, 5, 0, 1]\n",
        "max(a) + min(a)"
      ],
      "execution_count": 13,
      "outputs": [
        {
          "output_type": "execute_result",
          "data": {
            "text/plain": [
              "-1"
            ]
          },
          "metadata": {
            "tags": []
          },
          "execution_count": 13
        }
      ]
    },
    {
      "cell_type": "markdown",
      "metadata": {
        "id": "OcSDHHYkK6lZ"
      },
      "source": [
        "## Q8.\n",
        "> 17 / 3의 결과는 다음과 같다.\n",
        "```\n",
        "17 / 3\n",
        "5.666666666666667\n",
        "```\n",
        "> 위와 같은 결괏값 5.666666666666667을 소숫점 4자리까지만 반올림하여 표시해 보자."
      ]
    },
    {
      "cell_type": "code",
      "metadata": {
        "id": "GmaaVGqrK6le",
        "colab": {
          "base_uri": "https://localhost:8080/"
        },
        "outputId": "25bbf832-503a-4ac1-a31d-3c5c952cddba"
      },
      "source": [
        "# [Q8] Code\n",
        "\n",
        "round(17/3, 4)\n"
      ],
      "execution_count": 14,
      "outputs": [
        {
          "output_type": "execute_result",
          "data": {
            "text/plain": [
              "5.6667"
            ]
          },
          "metadata": {
            "tags": []
          },
          "execution_count": 14
        }
      ]
    },
    {
      "cell_type": "markdown",
      "metadata": {
        "id": "anwB_DjuK60j"
      },
      "source": [
        "## Q9.\n",
        "> 다음과 같이 실행할 때 입력값을 모두 더하여 출력하는 스크립트\n",
        "\n",
        "> (C:\\doit\\myargv.py)를 작성해 보자.\n",
        "```\n",
        "C:\\> cd doit\n",
        "C:\\doit> python myargv.py 1 2 3 4 5 6 7 8 9 10\n",
        "55\n",
        "```\n",
        ">> ※ 외장 함수 sys.argv를 사용해 보자."
      ]
    },
    {
      "cell_type": "code",
      "metadata": {
        "id": "QJTNoSqtMrIM"
      },
      "source": [
        "# [Q9] Code\n",
        "import sys\n",
        "\n",
        "numbers = sys.argv[1:] # 파일 이름을 제외한 명령 행의 모든 입력\n",
        "\n",
        "result = 0\n",
        "for number in numbers:\n",
        "    result += int(number)\n",
        "print(result)"
      ],
      "execution_count": 45,
      "outputs": []
    },
    {
      "cell_type": "code",
      "metadata": {
        "colab": {
          "base_uri": "https://localhost:8080/"
        },
        "id": "3UmE3JomT0V9",
        "outputId": "97866e43-329d-4c57-c983-10d0f9016999"
      },
      "source": [
        "cd doit"
      ],
      "execution_count": 32,
      "outputs": [
        {
          "output_type": "stream",
          "text": [
            "[Errno 2] No such file or directory: 'doit'\n",
            "/content/doit\n"
          ],
          "name": "stdout"
        }
      ]
    },
    {
      "cell_type": "code",
      "metadata": {
        "colab": {
          "base_uri": "https://localhost:8080/"
        },
        "id": "Y_oAoG4tUO1V",
        "outputId": "c5bae29b-ca7c-4006-ca9a-8cbdabeba65f"
      },
      "source": [
        "run myargv.py 1 2 3 4 5 6 7 8 9 10"
      ],
      "execution_count": 44,
      "outputs": [
        {
          "output_type": "stream",
          "text": [
            "55\n"
          ],
          "name": "stdout"
        }
      ]
    },
    {
      "cell_type": "markdown",
      "metadata": {
        "id": "PVA_-b0TK7Ai"
      },
      "source": [
        "## Q10.\n",
        "> os 모듈을 사용하여 다음과 같이 동작하도록 코드를 작성해 보자.\n",
        "\n",
        "1. ./doit 디렉터리로 이동한다.\n",
        "2. dir 명령을 실행하고 그 결과를 변수에 담는다.\n",
        "3. dir 명령의 결과를 출력한다."
      ]
    },
    {
      "cell_type": "code",
      "metadata": {
        "id": "XCnUj3obMr3v",
        "colab": {
          "base_uri": "https://localhost:8080/"
        },
        "outputId": "97a66b82-469f-4b59-e1d7-ab76f2f1dc7c"
      },
      "source": [
        "# [Q10] Code\n",
        "\n",
        "import os\n",
        "\n",
        "os.chdir(\"/content/doit\")\n",
        "\n",
        "result = os.popen(\"dir\")\n",
        "\n",
        "print(result.read())"
      ],
      "execution_count": 40,
      "outputs": [
        {
          "output_type": "stream",
          "text": [
            "myargv.py\n",
            "\n"
          ],
          "name": "stdout"
        }
      ]
    },
    {
      "cell_type": "markdown",
      "metadata": {
        "id": "8xQf6xJ4K7M_"
      },
      "source": [
        "## Q11.\n",
        "> glob 모듈을 사용하여 ./doit 디렉터리의 파일 중 확장자가 .py인 파일만 출력하는 프로그램을 작성해 보자."
      ]
    },
    {
      "cell_type": "code",
      "metadata": {
        "id": "UCO7aRh5Msx6",
        "colab": {
          "base_uri": "https://localhost:8080/"
        },
        "outputId": "bf4cf364-4283-433b-e354-9f7ad1189eeb"
      },
      "source": [
        "# [Q11] Code\n",
        "\n",
        "import glob\n",
        "glob.glob(\"/content/doit/*.py\")\n"
      ],
      "execution_count": 41,
      "outputs": [
        {
          "output_type": "execute_result",
          "data": {
            "text/plain": [
              "['/content/doit/myargv.py']"
            ]
          },
          "metadata": {
            "tags": []
          },
          "execution_count": 41
        }
      ]
    },
    {
      "cell_type": "markdown",
      "metadata": {
        "id": "Q6QYCZ9HM3DW"
      },
      "source": [
        "## Q12.\n",
        "> time 모듈을 사용하여 현재 날짜와 시간을 다음과 같은 형식으로 출력해 보자.\n",
        "\n",
        "- 2018/04/03 17:20:32"
      ]
    },
    {
      "cell_type": "code",
      "metadata": {
        "id": "80vm6aSMM3gf",
        "colab": {
          "base_uri": "https://localhost:8080/",
          "height": 35
        },
        "outputId": "20bc0385-bc5a-4862-b3f2-d52891983fed"
      },
      "source": [
        "# [Q12] Code\n",
        "\n",
        "import time\n",
        "time.strftime(\"%Y/%m/%d %H:%M:%S\")"
      ],
      "execution_count": 42,
      "outputs": [
        {
          "output_type": "execute_result",
          "data": {
            "application/vnd.google.colaboratory.intrinsic+json": {
              "type": "string"
            },
            "text/plain": [
              "'2021/06/05 04:46:06'"
            ]
          },
          "metadata": {
            "tags": []
          },
          "execution_count": 42
        }
      ]
    },
    {
      "cell_type": "markdown",
      "metadata": {
        "id": "x2IYgozSM3gd"
      },
      "source": [
        "## Q13.\n",
        "> random 모듈을 사용하여 로또 번호(1~45 사이의 숫자 6개)를 생성해 보자(단 중복된 숫자가 있으면 안 됨)."
      ]
    },
    {
      "cell_type": "code",
      "metadata": {
        "id": "FiKNOu9HM3DX",
        "colab": {
          "base_uri": "https://localhost:8080/"
        },
        "outputId": "6c1a59fb-4729-4a6d-dcd7-e9912a21efa4"
      },
      "source": [
        "# [Q13] Code\n",
        "\n",
        "import random\n",
        "\n",
        "result = []\n",
        "\n",
        "while len(result) < 6:\n",
        "    num = random.randint(1, 45)\n",
        "    if num not in result:\n",
        "        result.append(num)\n",
        "\n",
        "print(result)"
      ],
      "execution_count": 43,
      "outputs": [
        {
          "output_type": "stream",
          "text": [
            "[30, 38, 25, 19, 10, 42]\n"
          ],
          "name": "stdout"
        }
      ]
    },
    {
      "cell_type": "markdown",
      "metadata": {
        "id": "2ljBDShkbqZO"
      },
      "source": [
        "## 코딩 연습 결과를 github에 올리기\n",
        "> 완성된 ipython 노트북 파일을 각자의 github에 올리시오.\n",
        "\n",
        "- github 계정 만들기 (계정이 없는 학생)\n",
        "    1. github에 sign up (Google gmail 계정을 이용해서 만드시오.)\n",
        "- github에 노트 올리기\n",
        "    2. github에 각자의 id로 repo를 만드시오. (한번 만들면 계속 재사용)\n",
        "    3. github repo에 연습결과 노트를 올리시오.\n",
        "        - 제출노트: ch5_exercises_id.ipynb\n"
      ]
    },
    {
      "cell_type": "code",
      "metadata": {
        "id": "OnCR-YNCc8B6"
      },
      "source": [
        ""
      ],
      "execution_count": null,
      "outputs": []
    }
  ]
}